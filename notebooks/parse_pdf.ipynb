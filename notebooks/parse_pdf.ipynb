{
 "cells": [
  {
   "cell_type": "code",
   "execution_count": null,
   "id": "59baa6a0-da6b-40b1-8c38-4e7bd8a96dcf",
   "metadata": {},
   "outputs": [],
   "source": [
    "import pathlib\n",
    "\n",
    "import pymupdf\n",
    "import pymupdf4llm\n",
    "\n",
    "# Paramters\n",
    "file = \"../datasets/your-file.pdf\""
   ]
  },
  {
   "cell_type": "code",
   "execution_count": null,
   "id": "0e9e0a2d-fa70-4a3d-8aaa-0b8fec81cc41",
   "metadata": {},
   "outputs": [],
   "source": [
    "# Load files\n",
    "doc = pymupdf.open(file)"
   ]
  },
  {
   "cell_type": "code",
   "execution_count": null,
   "id": "1987a72b-30d7-4127-af3c-9e0610da5fb8",
   "metadata": {},
   "outputs": [],
   "source": [
    "# Load file in markdown format\n",
    "md_text = pymupdf4llm.to_markdown(file)"
   ]
  },
  {
   "cell_type": "code",
   "execution_count": null,
   "id": "7eb6647c-2644-4842-8523-5a3a1a7bc329",
   "metadata": {},
   "outputs": [],
   "source": [
    "# Save as markdown file\n",
    "pathlib.Path(\"output.md\").write_bytes(md_text.encode())"
   ]
  },
  {
   "cell_type": "code",
   "execution_count": null,
   "id": "f7f58f1f-8df1-4ba9-b3fb-4e50e769813d",
   "metadata": {},
   "outputs": [],
   "source": [
    "# Get table of contents\n",
    "toc = doc.get_toc()"
   ]
  },
  {
   "cell_type": "code",
   "execution_count": null,
   "id": "214c686e-ef46-4383-a8e9-a95abcff9361",
   "metadata": {},
   "outputs": [],
   "source": [
    "toc"
   ]
  }
 ],
 "metadata": {
  "kernelspec": {
   "display_name": "Python 3 (ipykernel)",
   "language": "python",
   "name": "python3"
  },
  "language_info": {
   "codemirror_mode": {
    "name": "ipython",
    "version": 3
   },
   "file_extension": ".py",
   "mimetype": "text/x-python",
   "name": "python",
   "nbconvert_exporter": "python",
   "pygments_lexer": "ipython3",
   "version": "3.10.12"
  }
 },
 "nbformat": 4,
 "nbformat_minor": 5
}
